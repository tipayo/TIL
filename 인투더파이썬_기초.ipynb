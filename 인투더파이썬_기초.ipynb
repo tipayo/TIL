{
  "nbformat": 4,
  "nbformat_minor": 0,
  "metadata": {
    "colab": {
      "provenance": [],
      "authorship_tag": "ABX9TyOamPdDrM2YvBfbR52A1v4o",
      "include_colab_link": true
    },
    "kernelspec": {
      "name": "python3",
      "display_name": "Python 3"
    },
    "language_info": {
      "name": "python"
    }
  },
  "cells": [
    {
      "cell_type": "markdown",
      "metadata": {
        "id": "view-in-github",
        "colab_type": "text"
      },
      "source": [
        "<a href=\"https://colab.research.google.com/github/tipayo/TIL/blob/main/%EC%9D%B8%ED%88%AC%EB%8D%94%ED%8C%8C%EC%9D%B4%EC%8D%AC_%EA%B8%B0%EC%B4%88.ipynb\" target=\"_parent\"><img src=\"https://colab.research.google.com/assets/colab-badge.svg\" alt=\"Open In Colab\"/></a>"
      ]
    },
    {
      "cell_type": "code",
      "execution_count": null,
      "metadata": {
        "id": "NPjjig9iiwl2"
      },
      "outputs": [],
      "source": []
    },
    {
      "cell_type": "markdown",
      "source": [
        "#마크다운\n",
        "##마크다운\n",
        "###마크다운\n",
        "\n",
        "- 목차1\n",
        "- 목차2\n",
        "- 목차3\n",
        "\n",
        "> 블록1\n",
        "> 블록2\n",
        "> 블록3\n",
        "\n",
        "\n",
        "#코드 1\n",
        "print(\"helloworld\")\n",
        "\n"
      ],
      "metadata": {
        "id": "LdSMEHbmjaeO"
      }
    },
    {
      "cell_type": "markdown",
      "source": [
        "#파이썬 1장 변수\n"
      ],
      "metadata": {
        "id": "-jNgHCu2klMO"
      }
    },
    {
      "cell_type": "code",
      "source": [],
      "metadata": {
        "id": "jJtQp4IakKW4"
      },
      "execution_count": null,
      "outputs": []
    }
  ]
}